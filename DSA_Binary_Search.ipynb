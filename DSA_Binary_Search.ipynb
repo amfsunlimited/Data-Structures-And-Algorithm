{
  "cells": [
    {
      "cell_type": "markdown",
      "metadata": {
        "id": "view-in-github",
        "colab_type": "text"
      },
      "source": [
        "<a href=\"https://colab.research.google.com/github/amfsunlimited/Data-Structures-And-Algorithm/blob/main/DSA_Binary_Search.ipynb\" target=\"_parent\"><img src=\"https://colab.research.google.com/assets/colab-badge.svg\" alt=\"Open In Colab\"/></a>"
      ]
    },
    {
      "cell_type": "markdown",
      "id": "ac4ce467",
      "metadata": {
        "id": "ac4ce467"
      },
      "source": [
        "# Binary Search"
      ]
    },
    {
      "cell_type": "markdown",
      "id": "cd7908f8",
      "metadata": {
        "id": "cd7908f8"
      },
      "source": [
        "Binary Search is a searching algorithm used in a sorted array by repeatedly dividing the search interval in half. The idea of binary search is to use the information that the array is sorted and reduce the time complexity to O(Log n). \n"
      ]
    },
    {
      "cell_type": "markdown",
      "id": "d0fbdd2e",
      "metadata": {
        "id": "d0fbdd2e"
      },
      "source": [
        "Begin with the mid element of the whole array as a search key.\n",
        "If the value of the search key is equal to the item then return an index of the search key.\n",
        "Or if the value of the search key is less than the item in the middle of the interval, narrow the interval to the lower half.\n",
        "Otherwise, narrow it to the upper half.\n",
        "Repeatedly check from the second point until the value is found or the interval is empty"
      ]
    },
    {
      "cell_type": "markdown",
      "source": [
        "**Iterative Method.** "
      ],
      "metadata": {
        "id": "zCN4_iIoQyDK"
      },
      "id": "zCN4_iIoQyDK"
    },
    {
      "cell_type": "code",
      "execution_count": 6,
      "id": "ed0e507f",
      "metadata": {
        "id": "ed0e507f"
      },
      "outputs": [],
      "source": [
        "def binary_search(array, number, low, high):\n",
        "    length = len(array)\n",
        "    count = 0\n",
        "    while low <= high:\n",
        "        count += 1\n",
        "        mid = int((high-low)/2) + low\n",
        "        if array[mid] == number:\n",
        "            return mid, count\n",
        "        elif array[mid] > number:\n",
        "            high = mid - 1\n",
        "        else:          \n",
        "            low = mid + 1\n",
        "    return -1,count\n",
        "        \n",
        "    "
      ]
    },
    {
      "cell_type": "code",
      "execution_count": 18,
      "id": "1a4c7603",
      "metadata": {
        "colab": {
          "base_uri": "https://localhost:8080/"
        },
        "id": "1a4c7603",
        "outputId": "9bd8b5bd-35b1-46aa-e6cc-a85b0c12c9b4"
      },
      "outputs": [
        {
          "output_type": "execute_result",
          "data": {
            "text/plain": [
              "(4, 1)"
            ]
          },
          "metadata": {},
          "execution_count": 18
        }
      ],
      "source": [
        "binary_search([1,3,7,8,12,45,366,555,567,674], 12, 0, 9)"
      ]
    },
    {
      "cell_type": "markdown",
      "source": [
        "https://www.geeksforgeeks.org/binary-search/"
      ],
      "metadata": {
        "id": "smPoTKRGQ794"
      },
      "id": "smPoTKRGQ794"
    },
    {
      "cell_type": "markdown",
      "source": [
        "**Recursive Method**"
      ],
      "metadata": {
        "id": "L-cttbG3SokJ"
      },
      "id": "L-cttbG3SokJ"
    },
    {
      "cell_type": "code",
      "execution_count": 15,
      "id": "b1a970bf",
      "metadata": {
        "id": "b1a970bf"
      },
      "outputs": [],
      "source": [
        "def binary_search_rec(array, number, low, high, count):\n",
        "  if low > high:\n",
        "    return -1, count\n",
        "\n",
        "  mid = low + int((high - low)/2)\n",
        "  if array[mid] == number:\n",
        "    return mid, count\n",
        "\n",
        "  elif array[mid] > number:\n",
        "    return binary_search_rec(array, number, low, mid - 1, count + 1)\n",
        "\n",
        "  else:\n",
        "    return binary_search_rec(array, number, mid + 1, high, count + 1)\n"
      ]
    },
    {
      "cell_type": "code",
      "execution_count": 19,
      "id": "1d8d5217",
      "metadata": {
        "colab": {
          "base_uri": "https://localhost:8080/"
        },
        "id": "1d8d5217",
        "outputId": "a89f6810-c011-46b1-e5a5-30894f2c41ed"
      },
      "outputs": [
        {
          "output_type": "execute_result",
          "data": {
            "text/plain": [
              "(-1, 5)"
            ]
          },
          "metadata": {},
          "execution_count": 19
        }
      ],
      "source": [
        "binary_search_rec([1,3,7,8,12,45,366,555,567,674], 455, 0, 9, 1)"
      ]
    },
    {
      "cell_type": "markdown",
      "source": [
        "Step-by-step Binary Search Algorithm: We basically ignore half of the elements just after one comparison.\n",
        "\n",
        "Compare x with the middle element.\n",
        "If x matches with the middle element, we return the mid index.\n",
        "Else If x is greater than the mid element, then x can only lie in the right half subarray after the mid element. So we recur for the right half.\n",
        "Else (x is smaller) recur for the left half."
      ],
      "metadata": {
        "id": "KMjEk38ZUk0P"
      },
      "id": "KMjEk38ZUk0P"
    },
    {
      "cell_type": "markdown",
      "source": [
        "Note: Here we are using \n",
        "\n",
        "int mid = low + (high – low)/2;\n",
        "\n",
        "Maybe, you wonder why we are calculating the middle index this way, we can simply add the lower and higher index and divide it by 2.\n",
        "\n",
        "int mid = (low + high)/2;\n",
        "\n",
        "But if we calculate the middle index like this means our code is not 100% correct, it contains bugs.\n",
        "\n",
        "That is, it fails for larger values of int variables low and high. Specifically, it fails if the sum of low and high is greater than the maximum positive int value(2^31 – 1 ).\n",
        "\n",
        "The sum overflows to a negative value and the value stays negative when divided by 2. \n",
        "In java, it throws ArrayIndexOutOfBoundException.\n",
        "\n",
        "int mid = low + (high – low)/2;\n",
        "\n",
        "So it’s better to use it like this. This bug applies equally to merge sort and other divide and conquer algorithms."
      ],
      "metadata": {
        "id": "XzlLeSs1Uws4"
      },
      "id": "XzlLeSs1Uws4"
    },
    {
      "cell_type": "code",
      "source": [],
      "metadata": {
        "id": "zjKHIRGXT38A"
      },
      "id": "zjKHIRGXT38A",
      "execution_count": null,
      "outputs": []
    }
  ],
  "metadata": {
    "kernelspec": {
      "display_name": "Python 3 (ipykernel)",
      "language": "python",
      "name": "python3"
    },
    "language_info": {
      "codemirror_mode": {
        "name": "ipython",
        "version": 3
      },
      "file_extension": ".py",
      "mimetype": "text/x-python",
      "name": "python",
      "nbconvert_exporter": "python",
      "pygments_lexer": "ipython3",
      "version": "3.9.12"
    },
    "colab": {
      "provenance": [],
      "collapsed_sections": [],
      "include_colab_link": true
    }
  },
  "nbformat": 4,
  "nbformat_minor": 5
}