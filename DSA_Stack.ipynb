{
  "nbformat": 4,
  "nbformat_minor": 0,
  "metadata": {
    "colab": {
      "provenance": [],
      "collapsed_sections": [],
      "authorship_tag": "ABX9TyOm8DUSnIG8yyTD7MTMUjGU",
      "include_colab_link": true
    },
    "kernelspec": {
      "name": "python3",
      "display_name": "Python 3"
    },
    "language_info": {
      "name": "python"
    }
  },
  "cells": [
    {
      "cell_type": "markdown",
      "metadata": {
        "id": "view-in-github",
        "colab_type": "text"
      },
      "source": [
        "<a href=\"https://colab.research.google.com/github/amfsunlimited/Data-Structures-And-Algorithm/blob/main/DSA_Stack.ipynb\" target=\"_parent\"><img src=\"https://colab.research.google.com/assets/colab-badge.svg\" alt=\"Open In Colab\"/></a>"
      ]
    },
    {
      "cell_type": "markdown",
      "source": [
        "Stack\n",
        "It is a linear data structure that follows a particular order in which the operations are performed.\n",
        "\n",
        "LIFO( Last In First Out )\n",
        "\n",
        "Basic Operations on Stack:\n",
        "\n",
        "\n",
        "*   push() to insert an element into the stack\n",
        "*   pop() to remove an element from the stack\n",
        "\n",
        "*   top() Returns the top element of the stack.\n",
        "*   isEmpty() returns true is stack is empty else false\n",
        "\n",
        "*   size() returns the size of stack\n",
        "\n",
        "\n",
        "\n",
        "\n",
        "\n",
        "\n",
        "\n",
        "\n",
        "\n",
        "\n",
        "\n"
      ],
      "metadata": {
        "id": "_euXS6AKW6EJ"
      }
    },
    {
      "cell_type": "markdown",
      "source": [
        "## Using Arrays(Lists) in python."
      ],
      "metadata": {
        "id": "GffHpY4mt-W4"
      }
    },
    {
      "cell_type": "code",
      "source": [
        "class stack:\n",
        "  #Initialize the Stack\n",
        "  def __init__(self, array, top):\n",
        "    self.MAX = 1000\n",
        "    self.array = array\n",
        "    self.top = top\n",
        "  #Push Function. Check for Overflow\n",
        "  def push(self, item):\n",
        "    if self.top == self.MAX:\n",
        "      return False\n",
        "    else:\n",
        "      self.array.append(item)\n",
        "      self.top += 1\n",
        "      return True\n",
        "  #Pop functionality. check for Underflow\n",
        "  def pop(self):\n",
        "    if self.top < 0:\n",
        "      return False\n",
        "\n",
        "    else:\n",
        "      self.top -= 1\n",
        "      return self.array.pop()\n",
        "\n",
        "  #Check if Stack is Empty.\n",
        "  def isEmpty(self):\n",
        "    if self.top < 0:\n",
        "      return True\n",
        "\n",
        "    else:\n",
        "      return False\n",
        "  #Return the top element\n",
        "  def peek(self):\n",
        "    if self.top < 0:\n",
        "      return False\n",
        "\n",
        "    else:\n",
        "      return self.array[self.top]\n",
        "  #return the entire stack\n",
        "  def get_stack(self):\n",
        "    return self.array[0:self.top+1]\n"
      ],
      "metadata": {
        "id": "Hzrd60RCcwU-"
      },
      "execution_count": null,
      "outputs": []
    },
    {
      "cell_type": "code",
      "source": [
        "def create_stack(array):\n",
        "  new_stack = stack(array, len(array)-1)\n",
        "  return new_stack\n",
        "  "
      ],
      "metadata": {
        "id": "YuvywhIAd4B8"
      },
      "execution_count": null,
      "outputs": []
    },
    {
      "cell_type": "code",
      "source": [
        "new_stack = create_stack([2,3,6,8,1,2,1])"
      ],
      "metadata": {
        "id": "DOsas5NReCp9"
      },
      "execution_count": null,
      "outputs": []
    },
    {
      "cell_type": "code",
      "source": [
        "new_stack.get_stack()"
      ],
      "metadata": {
        "colab": {
          "base_uri": "https://localhost:8080/"
        },
        "id": "xu7Fn9Hyg6qL",
        "outputId": "ed0877eb-c6c0-4109-deaa-148dbfc163be"
      },
      "execution_count": null,
      "outputs": [
        {
          "output_type": "execute_result",
          "data": {
            "text/plain": [
              "[2, 3, 6, 8, 1, 2, 1]"
            ]
          },
          "metadata": {},
          "execution_count": 59
        }
      ]
    },
    {
      "cell_type": "code",
      "source": [
        "new_stack.pop()"
      ],
      "metadata": {
        "colab": {
          "base_uri": "https://localhost:8080/"
        },
        "id": "0MyczsC5hDxK",
        "outputId": "06e54914-dc62-4853-9aa7-70ae16e95935"
      },
      "execution_count": null,
      "outputs": [
        {
          "output_type": "execute_result",
          "data": {
            "text/plain": [
              "1"
            ]
          },
          "metadata": {},
          "execution_count": 61
        }
      ]
    },
    {
      "cell_type": "code",
      "source": [
        "new_stack.pop()"
      ],
      "metadata": {
        "colab": {
          "base_uri": "https://localhost:8080/"
        },
        "id": "OcugNcUQhrx0",
        "outputId": "b41e9316-5864-48c5-c9e3-2c2cdd1840fc"
      },
      "execution_count": null,
      "outputs": [
        {
          "output_type": "execute_result",
          "data": {
            "text/plain": [
              "2"
            ]
          },
          "metadata": {},
          "execution_count": 62
        }
      ]
    },
    {
      "cell_type": "code",
      "source": [
        "new_stack.get_stack()"
      ],
      "metadata": {
        "colab": {
          "base_uri": "https://localhost:8080/"
        },
        "id": "N5z2_n89iVrr",
        "outputId": "37e59e53-05ef-424a-ac80-cd23472cbf3f"
      },
      "execution_count": null,
      "outputs": [
        {
          "output_type": "execute_result",
          "data": {
            "text/plain": [
              "[2, 3, 6, 8, 1]"
            ]
          },
          "metadata": {},
          "execution_count": 63
        }
      ]
    },
    {
      "cell_type": "code",
      "source": [
        "new_stack.push(77)"
      ],
      "metadata": {
        "colab": {
          "base_uri": "https://localhost:8080/"
        },
        "id": "3uDg7IlHiYPa",
        "outputId": "8babfe8d-0b5e-46a2-ef7b-65ac5ebfeb04"
      },
      "execution_count": null,
      "outputs": [
        {
          "output_type": "execute_result",
          "data": {
            "text/plain": [
              "True"
            ]
          },
          "metadata": {},
          "execution_count": 64
        }
      ]
    },
    {
      "cell_type": "code",
      "source": [
        "new_stack.get_stack()"
      ],
      "metadata": {
        "colab": {
          "base_uri": "https://localhost:8080/"
        },
        "id": "HDEHrm8oiwdJ",
        "outputId": "f6869e05-4d2e-4d78-d911-c724a57a6e8a"
      },
      "execution_count": null,
      "outputs": [
        {
          "output_type": "execute_result",
          "data": {
            "text/plain": [
              "[2, 3, 6, 8, 1, 77]"
            ]
          },
          "metadata": {},
          "execution_count": 65
        }
      ]
    },
    {
      "cell_type": "code",
      "source": [
        "new_stack.peek()"
      ],
      "metadata": {
        "colab": {
          "base_uri": "https://localhost:8080/"
        },
        "id": "G6r7sJ7siw3Z",
        "outputId": "5d793f45-9105-4662-9ebf-23cd00314dd7"
      },
      "execution_count": null,
      "outputs": [
        {
          "output_type": "execute_result",
          "data": {
            "text/plain": [
              "77"
            ]
          },
          "metadata": {},
          "execution_count": 66
        }
      ]
    },
    {
      "cell_type": "code",
      "source": [
        "new_stack.get_stack()"
      ],
      "metadata": {
        "colab": {
          "base_uri": "https://localhost:8080/"
        },
        "id": "wmDvj3h5j4Gq",
        "outputId": "3afc6142-6612-4321-e2c4-cfbb0076f82c"
      },
      "execution_count": null,
      "outputs": [
        {
          "output_type": "execute_result",
          "data": {
            "text/plain": [
              "[2, 3, 6, 8, 1, 77]"
            ]
          },
          "metadata": {},
          "execution_count": 67
        }
      ]
    },
    {
      "cell_type": "code",
      "source": [
        "new_stack.isEmpty()"
      ],
      "metadata": {
        "colab": {
          "base_uri": "https://localhost:8080/"
        },
        "id": "E3yCzigYkMFq",
        "outputId": "8f7d71af-8b95-4f0f-e571-ea586200c8da"
      },
      "execution_count": null,
      "outputs": [
        {
          "output_type": "execute_result",
          "data": {
            "text/plain": [
              "False"
            ]
          },
          "metadata": {},
          "execution_count": 68
        }
      ]
    },
    {
      "cell_type": "markdown",
      "source": [
        "# **`Types of Stacks:`**\n",
        "\n",
        "> Register Stack: This type of stack is also a memory element present in the memory unit and can handle a small amount of data only. The height of the register stack is always limited as the size of the register stack is very small compared to the memory.\n",
        "\n",
        "> Memory Stack: This type of stack can handle a large amount of memory data. The height of the memory stack is flexible as it occupies a large amount of memory data.\n",
        "\n",
        "\n",
        "\n",
        "\n",
        "\n"
      ],
      "metadata": {
        "id": "aZsK5bDRrmOR"
      }
    },
    {
      "cell_type": "markdown",
      "source": [
        "# **Applications of the stack:**\n",
        "\n",
        "*  Infix to Postfix /Prefix conversion\n",
        "\n",
        "*  Redo-undo features at many places like editors, photoshop.\n",
        "Forward and backward features in web browsers\n",
        "\n",
        "*   Backtracking is one of the algorithm designing techniques. Some examples of backtracking are the Knight-Tour problem, N-Queen problem, find your way through a maze, and game-like chess or checkers in all these problems we dive into someway if that way is not efficient we come back to the previous state and go into some another path. To get back from a current state we need to store the previous state for that purpose we need a stack.\n",
        "\n",
        "*   In Graph Algorithms like Topological Sorting and Strongly Connected Components\n",
        "*  In Memory management, any modern computer uses a stack as the primary management for a running purpose. Each program that is running in a computer system has its own memory allocations\n",
        "\n",
        "\n",
        "*  String reversal is also another application of stack. Here one by one each character gets inserted into the stack. So the first character of the string is on the bottom of the stack and the last element of a string is on the top of the stack. After Performing the pop operations on the stack we get a string in reverse order.\n",
        "\n",
        "\n",
        "\n",
        "\n",
        "\n",
        "\n"
      ],
      "metadata": {
        "id": "X0KPYGERsyYg"
      }
    },
    {
      "cell_type": "markdown",
      "source": [
        "# Implementation of Stack: \n",
        "There are two ways to implement a stack\n",
        "\n",
        "Using array, \n",
        "Using linked list"
      ],
      "metadata": {
        "id": "KN-noUhVtz7U"
      }
    }
  ]
}