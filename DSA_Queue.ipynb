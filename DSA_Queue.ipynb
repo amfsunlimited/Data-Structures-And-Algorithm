{
  "nbformat": 4,
  "nbformat_minor": 0,
  "metadata": {
    "colab": {
      "provenance": [],
      "collapsed_sections": [],
      "authorship_tag": "ABX9TyNb57PlNQZRYEoX6xZ2/iy2",
      "include_colab_link": true
    },
    "kernelspec": {
      "name": "python3",
      "display_name": "Python 3"
    },
    "language_info": {
      "name": "python"
    }
  },
  "cells": [
    {
      "cell_type": "markdown",
      "metadata": {
        "id": "view-in-github",
        "colab_type": "text"
      },
      "source": [
        "<a href=\"https://colab.research.google.com/github/amfsunlimited/Data-Structures-And-Algorithm/blob/main/DSA_Queue.ipynb\" target=\"_parent\"><img src=\"https://colab.research.google.com/assets/colab-badge.svg\" alt=\"Open In Colab\"/></a>"
      ]
    },
    {
      "cell_type": "markdown",
      "source": [
        "# What is Queue?\n",
        "A queue is a linear data structure that is open at both ends and the operations are performed in First In First Out (FIFO) order.\n",
        "\n",
        "We define a queue to be a list in which all additions to the list are made at one end, and all deletions from the list are made at the other end.  The element which is first pushed into the order, the operation is first performed on that."
      ],
      "metadata": {
        "id": "_QEzBwulPDwo"
      }
    },
    {
      "cell_type": "markdown",
      "source": [
        "# FIFO Principle of Queue:\n",
        "A Queue is like a line waiting to purchase tickets, where the first person in line is the first person served. (i.e. First come first serve).\n",
        "\n",
        "\n",
        "> Position of the entry in a queue ready to be served, that is, the first entry that will be removed from the queue, is called the front of the queue(sometimes, head of the queue), similarly, the position of the last entry in the queue, that is, the one most recently added, is called the rear (or the tail) of the queue. See the below figure.\n",
        "\n",
        "\n",
        "\n",
        "\n",
        "\n",
        "\n",
        "\n",
        "\n"
      ],
      "metadata": {
        "id": "QHjkW8yDPHWn"
      }
    },
    {
      "cell_type": "markdown",
      "source": [
        "# Types of Queue:\n",
        "There are different types of queue:\n",
        "\n",
        "**Input Restricted Queue:**\n",
        "This is a simple queue. In this type of queue, the input can be taken from only one end but deletion can be done from any of the ends.\n",
        "\n",
        "**Output Restricted Queue:**\n",
        "This is also a simple queue. In this type of queue, the input can be taken from both ends but deletion can be done from only one end.\n",
        "\n",
        "**Circular Queue:**\n",
        "This is a special type of queue where the last position is connected back to the first position. Here also the operations are performed in FIFO order.\n",
        "\n",
        "**Double-Ended Queue (Dequeue):**\n",
        "In a double-ended queue the insertion and deletion operations, both can be performed from both ends.\n",
        "\n",
        "**Priority Queue:**\n",
        "A priority queue is a special queue where the elements are accessed based on the priority assigned to them."
      ],
      "metadata": {
        "id": "o5xrP6m6Pac_"
      }
    },
    {
      "cell_type": "markdown",
      "source": [
        "# Enqueue(): \n",
        "Adds (or stores) an element to the end of the queue.\n",
        "\n",
        "The following steps should be taken to enqueue (insert) data into a queue:\n",
        "\n",
        "\n",
        "Step 1: Check if the queue is full.\n",
        "Step 2: If the queue is full, return overflow error and exit.\n",
        "Step 3: If the queue is not full, increment the rear pointer to point to the next empty space.\n",
        "Step 4: Add the data element to the queue location, where the rear is pointing.\n",
        "Step 5: return success."
      ],
      "metadata": {
        "id": "JrvFWb3LcI9V"
      }
    },
    {
      "cell_type": "markdown",
      "source": [
        "# Dequeue(): \n",
        "Removes (or access) the first element from the queue.\n",
        "\n",
        "The following steps are taken to perform the dequeue operation:\n",
        "\n",
        "Step 1: Check if the queue is empty.\n",
        "Step 2: If the queue is empty, return the underflow error and exit.\n",
        "Step 3: If the queue is not empty, access the data where the front is pointing.\n",
        "Step 4: Increment the front pointer to point to the next available data element.\n",
        "Step 5: The Return success."
      ],
      "metadata": {
        "id": "6IT5OnNycab0"
      }
    },
    {
      "cell_type": "markdown",
      "source": [
        "## Using arrays: "
      ],
      "metadata": {
        "id": "kp1j7TAXceot"
      }
    },
    {
      "cell_type": "code",
      "execution_count": null,
      "metadata": {
        "id": "-Jpf_QrsuUir"
      },
      "outputs": [],
      "source": [
        "class Queue:\n",
        "  #initialize the parameters\n",
        "  front = 0\n",
        "  rear = 0\n",
        "  size = 0\n",
        "  array = []\n",
        "  MAX = 1000\n",
        "\n",
        "  def __init__(self):\n",
        "    pass\n",
        "#check if the queue is full\n",
        "  def is_full(self):\n",
        "    if self.rear == self.MAX:\n",
        "      return True\n",
        "    else:\n",
        "      return False\n",
        "#check if the queue is empty\n",
        "  def is_empty(self):\n",
        "    if self.front == self.rear:\n",
        "      return True\n",
        "    else: \n",
        "      return False\n",
        "#add an item to the queue\n",
        "  def enqueue(self, item):\n",
        "    if self.is_full():\n",
        "      return False\n",
        "    else:\n",
        "      self.array.append(item)\n",
        "      self.rear += 1\n",
        "      return True\n",
        "\n",
        "#remove an item from the queue\n",
        "  def dequeue(self):\n",
        "    if self.is_empty():\n",
        "      return False\n",
        "\n",
        "    else:\n",
        "      self.front += 1\n",
        "#return the front of the queue\n",
        "  def get_front(self):\n",
        "    return self.array[self.front]\n",
        "    # return self.front\n",
        "#return the rear of the queue\n",
        "  def get_rear(self):\n",
        "    return self.array[self.rear - 1]\n",
        "    # return self.rear\n",
        "#return the entire queue\n",
        "  def get_queue(self):\n",
        "    return self.array[self.front: self.rear + 1]\n",
        "#return the entire array of elements. \n",
        "  def get_array(self):\n",
        "    return self.array, len(self.array)"
      ]
    },
    {
      "cell_type": "code",
      "source": [
        "def create_queue():\n",
        "  queue = Queue()\n",
        "  return queue"
      ],
      "metadata": {
        "id": "v1Pn99EL1hqv"
      },
      "execution_count": null,
      "outputs": []
    },
    {
      "cell_type": "code",
      "source": [
        "queue = create_queue()"
      ],
      "metadata": {
        "id": "wKYRdxfP1ztl"
      },
      "execution_count": null,
      "outputs": []
    },
    {
      "cell_type": "code",
      "source": [
        "queue.enqueue(20)"
      ],
      "metadata": {
        "colab": {
          "base_uri": "https://localhost:8080/"
        },
        "id": "XP7ghQxd13HF",
        "outputId": "7728959d-3689-428e-b823-474ea52038e0"
      },
      "execution_count": null,
      "outputs": [
        {
          "output_type": "execute_result",
          "data": {
            "text/plain": [
              "True"
            ]
          },
          "metadata": {},
          "execution_count": 62
        }
      ]
    },
    {
      "cell_type": "code",
      "source": [
        "queue.get_queue()"
      ],
      "metadata": {
        "colab": {
          "base_uri": "https://localhost:8080/"
        },
        "id": "ur6wZXXc3OhU",
        "outputId": "a5c94670-b05c-418d-cf4f-b7927fc87002"
      },
      "execution_count": null,
      "outputs": [
        {
          "output_type": "execute_result",
          "data": {
            "text/plain": [
              "[20]"
            ]
          },
          "metadata": {},
          "execution_count": 63
        }
      ]
    },
    {
      "cell_type": "code",
      "source": [
        "queue.enqueue(12)\n",
        "queue.enqueue(14)\n",
        "queue.enqueue(1)\n",
        "queue.enqueue(17)"
      ],
      "metadata": {
        "id": "ncXuZ6-M4oOE",
        "colab": {
          "base_uri": "https://localhost:8080/"
        },
        "outputId": "78749dc9-7cae-4da0-e36c-2c1a0c7fb6aa"
      },
      "execution_count": null,
      "outputs": [
        {
          "output_type": "execute_result",
          "data": {
            "text/plain": [
              "True"
            ]
          },
          "metadata": {},
          "execution_count": 64
        }
      ]
    },
    {
      "cell_type": "code",
      "source": [
        "queue.get_queue()"
      ],
      "metadata": {
        "colab": {
          "base_uri": "https://localhost:8080/"
        },
        "id": "0kCiCcpVZ-1M",
        "outputId": "d43b0da2-c790-4985-99ca-394934085867"
      },
      "execution_count": null,
      "outputs": [
        {
          "output_type": "execute_result",
          "data": {
            "text/plain": [
              "[20, 12, 14, 1, 17]"
            ]
          },
          "metadata": {},
          "execution_count": 65
        }
      ]
    },
    {
      "cell_type": "code",
      "source": [
        "queue.dequeue()\n",
        "queue.dequeue()\n",
        "queue.enqueue(1)"
      ],
      "metadata": {
        "colab": {
          "base_uri": "https://localhost:8080/"
        },
        "id": "kF6gX7bAaAql",
        "outputId": "9347d62d-b838-4ee7-d781-e4daf2649d20"
      },
      "execution_count": null,
      "outputs": [
        {
          "output_type": "execute_result",
          "data": {
            "text/plain": [
              "True"
            ]
          },
          "metadata": {},
          "execution_count": 66
        }
      ]
    },
    {
      "cell_type": "code",
      "source": [
        "queue.get_queue()"
      ],
      "metadata": {
        "colab": {
          "base_uri": "https://localhost:8080/"
        },
        "id": "6dNGBXweaK91",
        "outputId": "3f818f9b-dc73-4d4d-8ca6-5ad3793dcba1"
      },
      "execution_count": null,
      "outputs": [
        {
          "output_type": "execute_result",
          "data": {
            "text/plain": [
              "[14, 1, 17, 1]"
            ]
          },
          "metadata": {},
          "execution_count": 67
        }
      ]
    },
    {
      "cell_type": "code",
      "source": [
        "queue.get_front()"
      ],
      "metadata": {
        "colab": {
          "base_uri": "https://localhost:8080/"
        },
        "id": "wnduJI3YaMuE",
        "outputId": "640897a6-7b53-4088-c1ce-c8e8f2d31b3b"
      },
      "execution_count": null,
      "outputs": [
        {
          "output_type": "execute_result",
          "data": {
            "text/plain": [
              "14"
            ]
          },
          "metadata": {},
          "execution_count": 68
        }
      ]
    },
    {
      "cell_type": "code",
      "source": [
        "queue.get_rear()"
      ],
      "metadata": {
        "colab": {
          "base_uri": "https://localhost:8080/"
        },
        "id": "Z67ZwDfDabE9",
        "outputId": "8a20f274-5d91-4170-8a04-fba69235bb9c"
      },
      "execution_count": null,
      "outputs": [
        {
          "output_type": "execute_result",
          "data": {
            "text/plain": [
              "1"
            ]
          },
          "metadata": {},
          "execution_count": 69
        }
      ]
    },
    {
      "cell_type": "code",
      "source": [
        "queue.get_array()"
      ],
      "metadata": {
        "colab": {
          "base_uri": "https://localhost:8080/"
        },
        "id": "gKWOEztVauDM",
        "outputId": "60f203c6-d5c7-4aab-b878-508195d40f9f"
      },
      "execution_count": null,
      "outputs": [
        {
          "output_type": "execute_result",
          "data": {
            "text/plain": [
              "([20, 12, 14, 1, 17, 1], 6)"
            ]
          },
          "metadata": {},
          "execution_count": 70
        }
      ]
    },
    {
      "cell_type": "markdown",
      "source": [
        "**Time complexity: All the operations have O(1) time complexity.**\n",
        "**Auxiliary Space: O(N)**\n",
        "\n",
        "## Applications of Queue:\n",
        "Application of queue is common. In a computer system, there may be queues of tasks waiting for the printer, for access to disk storage, or even in a time-sharing system, for use of the CPU. Within a single program, there may be multiple requests to be kept in a queue, or one task may create other tasks, which must be done in turn by keeping them in a queue.\n",
        "\n",
        "It has a single resource and multiple consumers.\n",
        "It synchronizes between slow and fast devices.\n",
        "In a network, a queue is used in devices such as a router/switch and mail queue.\n",
        "Variations: dequeue, priority queue and double-ended priority queue."
      ],
      "metadata": {
        "id": "oRWvKpUWeYeW"
      }
    }
  ]
}